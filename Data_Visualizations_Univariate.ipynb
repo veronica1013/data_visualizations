{
  "nbformat": 4,
  "nbformat_minor": 0,
  "metadata": {
    "colab": {
      "name": "Data_Visualizations_Univariate.ipynb",
      "provenance": [],
      "authorship_tag": "ABX9TyPMMjq3m0/Ehl/kx1RR8pU9"
    },
    "kernelspec": {
      "name": "python3",
      "display_name": "Python 3"
    },
    "language_info": {
      "name": "python"
    }
  },
  "cells": [
    {
      "cell_type": "markdown",
      "source": [
        "## 1.0 Creating a Bar Chart Using Seaborn"
      ],
      "metadata": {
        "id": "19P2oxvvoK2n"
      }
    },
    {
      "cell_type": "code",
      "execution_count": 2,
      "metadata": {
        "cellView": "code",
        "id": "oiu0UrCyX_r-"
      },
      "outputs": [],
      "source": [
        "#@title Default title text\n",
        "# Import relevant libraries\n",
        "import numpy as np\n",
        "import pandas as pd\n",
        "import matplotlib.pyplot as plt\n",
        "import seaborn as sb\n",
        "\n",
        "%matplotlib inline # Allows plots to be rendered directly nside the notebook"
      ]
    },
    {
      "cell_type": "code",
      "source": [
        "# Load the dataset\n",
        "df = pd.read_csv('pokemon.csv')\n",
        "print(df.shape)\n",
        "df.head()"
      ],
      "metadata": {
        "colab": {
          "base_uri": "https://localhost:8080/",
          "height": 305
        },
        "id": "IEEPPcmxYRR8",
        "outputId": "6ec86a40-e53f-4830-8a1f-eedcc70b7cbf"
      },
      "execution_count": 3,
      "outputs": [
        {
          "output_type": "stream",
          "name": "stdout",
          "text": [
            "(807, 14)\n"
          ]
        },
        {
          "output_type": "execute_result",
          "data": {
            "text/plain": [
              "   id     species  generation_id  height  weight  base_experience type_1  \\\n",
              "0   1   bulbasaur              1     0.7     6.9               64  grass   \n",
              "1   2     ivysaur              1     1.0    13.0              142  grass   \n",
              "2   3    venusaur              1     2.0   100.0              236  grass   \n",
              "3   4  charmander              1     0.6     8.5               62   fire   \n",
              "4   5  charmeleon              1     1.1    19.0              142   fire   \n",
              "\n",
              "   type_2  hp  attack  defense  speed  special-attack  special-defense  \n",
              "0  poison  45      49       49     45              65               65  \n",
              "1  poison  60      62       63     60              80               80  \n",
              "2  poison  80      82       83     80             100              100  \n",
              "3     NaN  39      52       43     65              60               50  \n",
              "4     NaN  58      64       58     80              80               65  "
            ],
            "text/html": [
              "\n",
              "  <div id=\"df-b59ea9fd-721f-44d2-a52c-b52df76dc0f8\">\n",
              "    <div class=\"colab-df-container\">\n",
              "      <div>\n",
              "<style scoped>\n",
              "    .dataframe tbody tr th:only-of-type {\n",
              "        vertical-align: middle;\n",
              "    }\n",
              "\n",
              "    .dataframe tbody tr th {\n",
              "        vertical-align: top;\n",
              "    }\n",
              "\n",
              "    .dataframe thead th {\n",
              "        text-align: right;\n",
              "    }\n",
              "</style>\n",
              "<table border=\"1\" class=\"dataframe\">\n",
              "  <thead>\n",
              "    <tr style=\"text-align: right;\">\n",
              "      <th></th>\n",
              "      <th>id</th>\n",
              "      <th>species</th>\n",
              "      <th>generation_id</th>\n",
              "      <th>height</th>\n",
              "      <th>weight</th>\n",
              "      <th>base_experience</th>\n",
              "      <th>type_1</th>\n",
              "      <th>type_2</th>\n",
              "      <th>hp</th>\n",
              "      <th>attack</th>\n",
              "      <th>defense</th>\n",
              "      <th>speed</th>\n",
              "      <th>special-attack</th>\n",
              "      <th>special-defense</th>\n",
              "    </tr>\n",
              "  </thead>\n",
              "  <tbody>\n",
              "    <tr>\n",
              "      <th>0</th>\n",
              "      <td>1</td>\n",
              "      <td>bulbasaur</td>\n",
              "      <td>1</td>\n",
              "      <td>0.7</td>\n",
              "      <td>6.9</td>\n",
              "      <td>64</td>\n",
              "      <td>grass</td>\n",
              "      <td>poison</td>\n",
              "      <td>45</td>\n",
              "      <td>49</td>\n",
              "      <td>49</td>\n",
              "      <td>45</td>\n",
              "      <td>65</td>\n",
              "      <td>65</td>\n",
              "    </tr>\n",
              "    <tr>\n",
              "      <th>1</th>\n",
              "      <td>2</td>\n",
              "      <td>ivysaur</td>\n",
              "      <td>1</td>\n",
              "      <td>1.0</td>\n",
              "      <td>13.0</td>\n",
              "      <td>142</td>\n",
              "      <td>grass</td>\n",
              "      <td>poison</td>\n",
              "      <td>60</td>\n",
              "      <td>62</td>\n",
              "      <td>63</td>\n",
              "      <td>60</td>\n",
              "      <td>80</td>\n",
              "      <td>80</td>\n",
              "    </tr>\n",
              "    <tr>\n",
              "      <th>2</th>\n",
              "      <td>3</td>\n",
              "      <td>venusaur</td>\n",
              "      <td>1</td>\n",
              "      <td>2.0</td>\n",
              "      <td>100.0</td>\n",
              "      <td>236</td>\n",
              "      <td>grass</td>\n",
              "      <td>poison</td>\n",
              "      <td>80</td>\n",
              "      <td>82</td>\n",
              "      <td>83</td>\n",
              "      <td>80</td>\n",
              "      <td>100</td>\n",
              "      <td>100</td>\n",
              "    </tr>\n",
              "    <tr>\n",
              "      <th>3</th>\n",
              "      <td>4</td>\n",
              "      <td>charmander</td>\n",
              "      <td>1</td>\n",
              "      <td>0.6</td>\n",
              "      <td>8.5</td>\n",
              "      <td>62</td>\n",
              "      <td>fire</td>\n",
              "      <td>NaN</td>\n",
              "      <td>39</td>\n",
              "      <td>52</td>\n",
              "      <td>43</td>\n",
              "      <td>65</td>\n",
              "      <td>60</td>\n",
              "      <td>50</td>\n",
              "    </tr>\n",
              "    <tr>\n",
              "      <th>4</th>\n",
              "      <td>5</td>\n",
              "      <td>charmeleon</td>\n",
              "      <td>1</td>\n",
              "      <td>1.1</td>\n",
              "      <td>19.0</td>\n",
              "      <td>142</td>\n",
              "      <td>fire</td>\n",
              "      <td>NaN</td>\n",
              "      <td>58</td>\n",
              "      <td>64</td>\n",
              "      <td>58</td>\n",
              "      <td>80</td>\n",
              "      <td>80</td>\n",
              "      <td>65</td>\n",
              "    </tr>\n",
              "  </tbody>\n",
              "</table>\n",
              "</div>\n",
              "      <button class=\"colab-df-convert\" onclick=\"convertToInteractive('df-b59ea9fd-721f-44d2-a52c-b52df76dc0f8')\"\n",
              "              title=\"Convert this dataframe to an interactive table.\"\n",
              "              style=\"display:none;\">\n",
              "        \n",
              "  <svg xmlns=\"http://www.w3.org/2000/svg\" height=\"24px\"viewBox=\"0 0 24 24\"\n",
              "       width=\"24px\">\n",
              "    <path d=\"M0 0h24v24H0V0z\" fill=\"none\"/>\n",
              "    <path d=\"M18.56 5.44l.94 2.06.94-2.06 2.06-.94-2.06-.94-.94-2.06-.94 2.06-2.06.94zm-11 1L8.5 8.5l.94-2.06 2.06-.94-2.06-.94L8.5 2.5l-.94 2.06-2.06.94zm10 10l.94 2.06.94-2.06 2.06-.94-2.06-.94-.94-2.06-.94 2.06-2.06.94z\"/><path d=\"M17.41 7.96l-1.37-1.37c-.4-.4-.92-.59-1.43-.59-.52 0-1.04.2-1.43.59L10.3 9.45l-7.72 7.72c-.78.78-.78 2.05 0 2.83L4 21.41c.39.39.9.59 1.41.59.51 0 1.02-.2 1.41-.59l7.78-7.78 2.81-2.81c.8-.78.8-2.07 0-2.86zM5.41 20L4 18.59l7.72-7.72 1.47 1.35L5.41 20z\"/>\n",
              "  </svg>\n",
              "      </button>\n",
              "      \n",
              "  <style>\n",
              "    .colab-df-container {\n",
              "      display:flex;\n",
              "      flex-wrap:wrap;\n",
              "      gap: 12px;\n",
              "    }\n",
              "\n",
              "    .colab-df-convert {\n",
              "      background-color: #E8F0FE;\n",
              "      border: none;\n",
              "      border-radius: 50%;\n",
              "      cursor: pointer;\n",
              "      display: none;\n",
              "      fill: #1967D2;\n",
              "      height: 32px;\n",
              "      padding: 0 0 0 0;\n",
              "      width: 32px;\n",
              "    }\n",
              "\n",
              "    .colab-df-convert:hover {\n",
              "      background-color: #E2EBFA;\n",
              "      box-shadow: 0px 1px 2px rgba(60, 64, 67, 0.3), 0px 1px 3px 1px rgba(60, 64, 67, 0.15);\n",
              "      fill: #174EA6;\n",
              "    }\n",
              "\n",
              "    [theme=dark] .colab-df-convert {\n",
              "      background-color: #3B4455;\n",
              "      fill: #D2E3FC;\n",
              "    }\n",
              "\n",
              "    [theme=dark] .colab-df-convert:hover {\n",
              "      background-color: #434B5C;\n",
              "      box-shadow: 0px 1px 3px 1px rgba(0, 0, 0, 0.15);\n",
              "      filter: drop-shadow(0px 1px 2px rgba(0, 0, 0, 0.3));\n",
              "      fill: #FFFFFF;\n",
              "    }\n",
              "  </style>\n",
              "\n",
              "      <script>\n",
              "        const buttonEl =\n",
              "          document.querySelector('#df-b59ea9fd-721f-44d2-a52c-b52df76dc0f8 button.colab-df-convert');\n",
              "        buttonEl.style.display =\n",
              "          google.colab.kernel.accessAllowed ? 'block' : 'none';\n",
              "\n",
              "        async function convertToInteractive(key) {\n",
              "          const element = document.querySelector('#df-b59ea9fd-721f-44d2-a52c-b52df76dc0f8');\n",
              "          const dataTable =\n",
              "            await google.colab.kernel.invokeFunction('convertToInteractive',\n",
              "                                                     [key], {});\n",
              "          if (!dataTable) return;\n",
              "\n",
              "          const docLinkHtml = 'Like what you see? Visit the ' +\n",
              "            '<a target=\"_blank\" href=https://colab.research.google.com/notebooks/data_table.ipynb>data table notebook</a>'\n",
              "            + ' to learn more about interactive tables.';\n",
              "          element.innerHTML = '';\n",
              "          dataTable['output_type'] = 'display_data';\n",
              "          await google.colab.output.renderOutput(dataTable, element);\n",
              "          const docLink = document.createElement('div');\n",
              "          docLink.innerHTML = docLinkHtml;\n",
              "          element.appendChild(docLink);\n",
              "        }\n",
              "      </script>\n",
              "    </div>\n",
              "  </div>\n",
              "  "
            ]
          },
          "metadata": {},
          "execution_count": 3
        }
      ]
    },
    {
      "cell_type": "code",
      "source": [
        "# check the naming convention of the column names\n",
        "df.columns"
      ],
      "metadata": {
        "colab": {
          "base_uri": "https://localhost:8080/",
          "height": 0
        },
        "id": "EXDrx9OmZSl-",
        "outputId": "5e3cca6a-ecce-4815-bd7a-b4dbba08df0a"
      },
      "execution_count": 4,
      "outputs": [
        {
          "output_type": "execute_result",
          "data": {
            "text/plain": [
              "Index(['id', 'species', 'generation_id', 'height', 'weight', 'base_experience',\n",
              "       'type_1', 'type_2', 'hp', 'attack', 'defense', 'speed',\n",
              "       'special-attack', 'special-defense'],\n",
              "      dtype='object')"
            ]
          },
          "metadata": {},
          "execution_count": 4
        }
      ]
    },
    {
      "cell_type": "markdown",
      "source": [
        "**Obdervation**\n",
        ">There's inconsitency in the columns naming convention. The hyphens on special attack and special defense will be replaced with underscores."
      ],
      "metadata": {
        "id": "JGZNzHkyZhsA"
      }
    },
    {
      "cell_type": "code",
      "source": [
        "# Rename the two columns above\n",
        "df.rename(columns = {'special-attack': 'special_attack',\n",
        "                     'special-defense': 'special_defense'}, inplace=True)\n",
        "# Confirm if the changes have been effected by previewing the column names\n",
        "df.columns"
      ],
      "metadata": {
        "colab": {
          "base_uri": "https://localhost:8080/",
          "height": 0
        },
        "id": "38GDHv28rPhg",
        "outputId": "abdc76fd-d638-4058-8833-e101da09df3b"
      },
      "execution_count": 32,
      "outputs": [
        {
          "output_type": "execute_result",
          "data": {
            "text/plain": [
              "Index(['id', 'species', 'generation_id', 'height', 'weight', 'base_experience',\n",
              "       'type_1', 'type_2', 'hp', 'attack', 'defense', 'speed',\n",
              "       'special_attack', 'special_defense'],\n",
              "      dtype='object')"
            ]
          },
          "metadata": {},
          "execution_count": 32
        }
      ]
    },
    {
      "cell_type": "markdown",
      "source": [
        "Before plotting any graphs, it's advised to check if the data types are in the correct format first. If they aren't then change them to the correct format. Use the pandas info() or the dtypes method. "
      ],
      "metadata": {
        "id": "wzJcV-4FsMIo"
      }
    },
    {
      "cell_type": "code",
      "source": [
        "# Check the datatypes\n",
        "df.info()"
      ],
      "metadata": {
        "colab": {
          "base_uri": "https://localhost:8080/",
          "height": 0
        },
        "id": "7kdBDv_eZd8I",
        "outputId": "92fc5c36-2e0b-41d0-cdcb-2ae97e1696d5"
      },
      "execution_count": 6,
      "outputs": [
        {
          "output_type": "stream",
          "name": "stdout",
          "text": [
            "<class 'pandas.core.frame.DataFrame'>\n",
            "RangeIndex: 807 entries, 0 to 806\n",
            "Data columns (total 14 columns):\n",
            " #   Column           Non-Null Count  Dtype  \n",
            "---  ------           --------------  -----  \n",
            " 0   id               807 non-null    int64  \n",
            " 1   species          807 non-null    object \n",
            " 2   generation_id    807 non-null    int64  \n",
            " 3   height           807 non-null    float64\n",
            " 4   weight           807 non-null    float64\n",
            " 5   base_experience  807 non-null    int64  \n",
            " 6   type_1           807 non-null    object \n",
            " 7   type_2           405 non-null    object \n",
            " 8   hp               807 non-null    int64  \n",
            " 9   attack           807 non-null    int64  \n",
            " 10  defense          807 non-null    int64  \n",
            " 11  speed            807 non-null    int64  \n",
            " 12  special-attack   807 non-null    int64  \n",
            " 13  special-defense  807 non-null    int64  \n",
            "dtypes: float64(2), int64(9), object(3)\n",
            "memory usage: 88.4+ KB\n"
          ]
        }
      ]
    },
    {
      "cell_type": "markdown",
      "source": [
        "**Observation**\n",
        ">From the above output, the datatypes are in the correct format. We can therefore proceed with the plotting of the graphs."
      ],
      "metadata": {
        "id": "95VBUjcMsu8W"
      }
    },
    {
      "cell_type": "markdown",
      "source": [
        "### Plotting a Bar Chart for the Generation Id Using Seaborn"
      ],
      "metadata": {
        "id": "BgY3neLQtAXd"
      }
    },
    {
      "cell_type": "code",
      "source": [
        "# Use countplot to create a bar chart for the generation id\n",
        "sb.countplot(data=df, x='generation_id');"
      ],
      "metadata": {
        "colab": {
          "base_uri": "https://localhost:8080/",
          "height": 280
        },
        "id": "IsQAb6RXaC4c",
        "outputId": "318c8cdc-eeba-4154-c764-bd914c86a2f4"
      },
      "execution_count": 7,
      "outputs": [
        {
          "output_type": "display_data",
          "data": {
            "text/plain": [
              "<Figure size 432x288 with 1 Axes>"
            ],
            "image/png": "[encoded data removed]"
          },
          "metadata": {
            "needs_background": "light"
          }
        }
      ]
    },
    {
      "cell_type": "markdown",
      "source": [
        "**Observation**\n",
        ">From the above graph, the colors don't have any meaning. The generation are already associated woth different numbers on the x-axis and we do not have a reason to differentiate them with different colors. Therefore, we'll change it to one color using seaborn color palette function."
      ],
      "metadata": {
        "id": "hF29w5lrbC2I"
      }
    },
    {
      "cell_type": "code",
      "source": [
        "# Use seaborn color palette to ontain one color value\n",
        "sb.color_palette()"
      ],
      "metadata": {
        "colab": {
          "base_uri": "https://localhost:8080/",
          "height": 77
        },
        "id": "PPtS4RzuaxSH",
        "outputId": "bd3db23c-0bef-434e-a9f9-d8b1877c0169"
      },
      "execution_count": 8,
      "outputs": [
        {
          "output_type": "execute_result",
          "data": {
            "text/plain": [
              "[(0.12156862745098039, 0.4666666666666667, 0.7058823529411765),\n",
              " (1.0, 0.4980392156862745, 0.054901960784313725),\n",
              " (0.17254901960784313, 0.6274509803921569, 0.17254901960784313),\n",
              " (0.8392156862745098, 0.15294117647058825, 0.1568627450980392),\n",
              " (0.5803921568627451, 0.403921568627451, 0.7411764705882353),\n",
              " (0.5490196078431373, 0.33725490196078434, 0.29411764705882354),\n",
              " (0.8901960784313725, 0.4666666666666667, 0.7607843137254902),\n",
              " (0.4980392156862745, 0.4980392156862745, 0.4980392156862745),\n",
              " (0.7372549019607844, 0.7411764705882353, 0.13333333333333333),\n",
              " (0.09019607843137255, 0.7450980392156863, 0.8117647058823529)]"
            ],
            "text/html": [
              "<svg  width=\"550\" height=\"55\"><rect x=\"0\" y=\"0\" width=\"55\" height=\"55\" style=\"fill:#1f77b4;stroke-width:2;stroke:rgb(255,255,255)\"/><rect x=\"55\" y=\"0\" width=\"55\" height=\"55\" style=\"fill:#ff7f0e;stroke-width:2;stroke:rgb(255,255,255)\"/><rect x=\"110\" y=\"0\" width=\"55\" height=\"55\" style=\"fill:#2ca02c;stroke-width:2;stroke:rgb(255,255,255)\"/><rect x=\"165\" y=\"0\" width=\"55\" height=\"55\" style=\"fill:#d62728;stroke-width:2;stroke:rgb(255,255,255)\"/><rect x=\"220\" y=\"0\" width=\"55\" height=\"55\" style=\"fill:#9467bd;stroke-width:2;stroke:rgb(255,255,255)\"/><rect x=\"275\" y=\"0\" width=\"55\" height=\"55\" style=\"fill:#8c564b;stroke-width:2;stroke:rgb(255,255,255)\"/><rect x=\"330\" y=\"0\" width=\"55\" height=\"55\" style=\"fill:#e377c2;stroke-width:2;stroke:rgb(255,255,255)\"/><rect x=\"385\" y=\"0\" width=\"55\" height=\"55\" style=\"fill:#7f7f7f;stroke-width:2;stroke:rgb(255,255,255)\"/><rect x=\"440\" y=\"0\" width=\"55\" height=\"55\" style=\"fill:#bcbd22;stroke-width:2;stroke:rgb(255,255,255)\"/><rect x=\"495\" y=\"0\" width=\"55\" height=\"55\" style=\"fill:#17becf;stroke-width:2;stroke:rgb(255,255,255)\"/></svg>"
            ]
          },
          "metadata": {},
          "execution_count": 8
        }
      ]
    },
    {
      "cell_type": "markdown",
      "source": [
        "**I'll pick the first color and store it in base_color variable.**"
      ],
      "metadata": {
        "id": "9Wvto3vvcpu2"
      }
    },
    {
      "cell_type": "code",
      "source": [
        "base_color = sb.color_palette()[0]\n",
        "base_color"
      ],
      "metadata": {
        "colab": {
          "base_uri": "https://localhost:8080/",
          "height": 0
        },
        "id": "HiAwrmqZclC1",
        "outputId": "6b1eebb2-abf5-4af5-b48a-a9be10cdb0de"
      },
      "execution_count": 9,
      "outputs": [
        {
          "output_type": "execute_result",
          "data": {
            "text/plain": [
              "(0.12156862745098039, 0.4666666666666667, 0.7058823529411765)"
            ]
          },
          "metadata": {},
          "execution_count": 9
        }
      ]
    },
    {
      "cell_type": "markdown",
      "source": [
        "**Next, I'll add the variable in the countplot function in order to have one color.**"
      ],
      "metadata": {
        "id": "MYzsQoqFdJ_A"
      }
    },
    {
      "cell_type": "code",
      "source": [
        "# Use countplot to create a bar chart for the generation id\n",
        "# Use base color variable to change the color into one\n",
        "sb.countplot(data=df, x='generation_id',color=base_color);"
      ],
      "metadata": {
        "colab": {
          "base_uri": "https://localhost:8080/",
          "height": 280
        },
        "id": "uObjKrA-dHGx",
        "outputId": "685aec5f-35c8-4fc2-d633-ce51ae1a3bf9"
      },
      "execution_count": 15,
      "outputs": [
        {
          "output_type": "display_data",
          "data": {
            "text/plain": [
              "<Figure size 432x288 with 1 Axes>"
            ],
            "image/png": "[encoded data removed]"
          },
          "metadata": {
            "needs_background": "light"
          }
        }
      ]
    },
    {
      "cell_type": "markdown",
      "source": [
        "To improve on the above plot, we'll consider ordering the generation id's from highest to lowest. Using the matplotlib value_counts() will come in handy. This is because the value_counts() returns the unique values in a column in descending order then we'll use index to map the order of the generation id on the graph."
      ],
      "metadata": {
        "id": "DEahs_r1fKvf"
      }
    },
    {
      "cell_type": "code",
      "source": [
        "# Use value count to get the descinding order of generation id\n",
        "order_generation = df['generation_id'].value_counts()\n",
        "order_generation"
      ],
      "metadata": {
        "colab": {
          "base_uri": "https://localhost:8080/",
          "height": 0
        },
        "id": "Vu4tjNPtdyTR",
        "outputId": "7971e4e1-0502-445c-83a3-bb5706fa9ede"
      },
      "execution_count": 16,
      "outputs": [
        {
          "output_type": "execute_result",
          "data": {
            "text/plain": [
              "5    156\n",
              "1    151\n",
              "3    135\n",
              "4    107\n",
              "2    100\n",
              "7     86\n",
              "6     72\n",
              "Name: generation_id, dtype: int64"
            ]
          },
          "metadata": {},
          "execution_count": 16
        }
      ]
    },
    {
      "cell_type": "code",
      "source": [
        "# Get the index of the generation ids in descing order\n",
        "order_gen_idx = df['generation_id'].value_counts().index\n",
        "order_gen_idx"
      ],
      "metadata": {
        "colab": {
          "base_uri": "https://localhost:8080/",
          "height": 0
        },
        "id": "IH9_jtP0gI0V",
        "outputId": "fb870731-016b-4495-d284-e8634f2852da"
      },
      "execution_count": 18,
      "outputs": [
        {
          "output_type": "execute_result",
          "data": {
            "text/plain": [
              "Int64Index([5, 1, 3, 4, 2, 7, 6], dtype='int64')"
            ]
          },
          "metadata": {},
          "execution_count": 18
        }
      ]
    },
    {
      "cell_type": "code",
      "source": [
        "# Use the index above to sort the bars from highest to lowest\n",
        "sb.countplot(data=df, x='generation_id',color=base_color, order = order_gen_idx);"
      ],
      "metadata": {
        "colab": {
          "base_uri": "https://localhost:8080/",
          "height": 280
        },
        "id": "y9JhNvRwghs8",
        "outputId": "3289d5b7-a903-4402-e1f6-6bd8243217f6"
      },
      "execution_count": 19,
      "outputs": [
        {
          "output_type": "display_data",
          "data": {
            "text/plain": [
              "<Figure size 432x288 with 1 Axes>"
            ],
            "image/png": "[encoded data removed]"
          },
          "metadata": {
            "needs_background": "light"
          }
        }
      ]
    },
    {
      "cell_type": "code",
      "source": [
        "# Get the index for the type_1 values in desceinding order\n",
        "type_ = df['type_1'].value_counts().index\n",
        "type_"
      ],
      "metadata": {
        "colab": {
          "base_uri": "https://localhost:8080/",
          "height": 0
        },
        "id": "nDOswyNUlwI8",
        "outputId": "64f7d357-3d59-4a56-e35b-0711ba891124"
      },
      "execution_count": 22,
      "outputs": [
        {
          "output_type": "execute_result",
          "data": {
            "text/plain": [
              "Index(['water', 'normal', 'grass', 'bug', 'fire', 'psychic', 'rock',\n",
              "       'electric', 'poison', 'ground', 'dark', 'fighting', 'ghost', 'dragon',\n",
              "       'steel', 'ice', 'fairy', 'flying'],\n",
              "      dtype='object')"
            ]
          },
          "metadata": {},
          "execution_count": 22
        }
      ]
    },
    {
      "cell_type": "code",
      "source": [
        "# Plot a bar chart for type_1\n",
        "sb.countplot(data=df, x='type_1',color=base_color, order = type_);"
      ],
      "metadata": {
        "colab": {
          "base_uri": "https://localhost:8080/",
          "height": 280
        },
        "id": "l7xpbFm-g3eC",
        "outputId": "17a8748b-2a39-4f2d-8dcf-8ec8fd8eb517"
      },
      "execution_count": 23,
      "outputs": [
        {
          "output_type": "display_data",
          "data": {
            "text/plain": [
              "<Figure size 432x288 with 1 Axes>"
            ],
            "image/png": "[encoded data removed]"
          },
          "metadata": {
            "needs_background": "light"
          }
        }
      ]
    },
    {
      "cell_type": "markdown",
      "source": [
        "From the above plot, the lables have overlapped. This shouldn't be the case for a good visualization. To rectify this, we'll use the matplotlib xtics to rotate the values on the x-axis to 90 degrees by setting rotation = 90 degrees."
      ],
      "metadata": {
        "id": "hlP--ZHVmL95"
      }
    },
    {
      "cell_type": "code",
      "source": [
        "# Plot a bar chart for type_1\n",
        "sb.countplot(data=df, x='type_1',color=base_color, order = type_)\n",
        "plt.xticks(rotation=90);"
      ],
      "metadata": {
        "colab": {
          "base_uri": "https://localhost:8080/",
          "height": 309
        },
        "id": "rcjgoxMWl-de",
        "outputId": "5ad79dff-3626-49f3-c607-b0796c8b32d2"
      },
      "execution_count": 25,
      "outputs": [
        {
          "output_type": "display_data",
          "data": {
            "text/plain": [
              "<Figure size 432x288 with 1 Axes>"
            ],
            "image/png": "[encoded data removed]"
          },
          "metadata": {
            "needs_background": "light"
          }
        }
      ]
    },
    {
      "cell_type": "markdown",
      "source": [
        "The other alternative is to set the barchart into a horizontal chart by changing the x parameter to y parameter as shown below:"
      ],
      "metadata": {
        "id": "gyya7bG0nItD"
      }
    },
    {
      "cell_type": "code",
      "source": [
        "# Plot a bar chart for type_1\n",
        "sb.countplot(data=df, y='type_1',color=base_color, order = type_).set(\n",
        "    title = 'Number of Count per Type 1 Categories')\n",
        "plt.xticks(rotation=90);"
      ],
      "metadata": {
        "colab": {
          "base_uri": "https://localhost:8080/",
          "height": 304
        },
        "id": "RkgYts9Gmng4",
        "outputId": "ccf76f38-af61-4173-c533-501982415c05"
      },
      "execution_count": 38,
      "outputs": [
        {
          "output_type": "display_data",
          "data": {
            "text/plain": [
              "<Figure size 432x288 with 1 Axes>"
            ],
            "image/png": "[encoded data removed]"
          },
          "metadata": {
            "needs_background": "light"
          }
        }
      ]
    },
    {
      "cell_type": "markdown",
      "source": [
        "## 2. Creating bar Chart Using Matplotlib"
      ],
      "metadata": {
        "id": "rZJYjbYOoU9I"
      }
    },
    {
      "cell_type": "markdown",
      "source": [
        "The other way one can even create a similar bar chart is using the Matplotlib, instead of Seaborn. We will use the matplotlib.pyplot.bar() function to plot the chart. The syntax is:\n",
        "```\n",
        "matplotlib.pyplot.bar(x, y, width=0.8, bottom=None, *, align='center', data=None).``` In the example below, we will use Series.value_counts() to extract a Series from the given DataFrame object."
      ],
      "metadata": {
        "id": "i0KwLqYaobNl"
      }
    },
    {
      "cell_type": "code",
      "source": [
        "# Return the Series having unique values\n",
        "x = df['generation_id'].unique()\n",
        "\n",
        "# Return the Series having frequency count of each unique value\n",
        "y = df['generation_id'].value_counts(sort=False)\n",
        "\n",
        "# Use the matplotlib bar() to plot the bar chart\n",
        "plt.bar(x, y)\n",
        "\n",
        "# Labeling the axes\n",
        "plt.xlabel('Generation Id')\n",
        "plt.ylabel('Count')\n",
        "\n",
        "# Title\n",
        "plt.title('Number of Count Per Generation Id Categories')\n",
        "\n",
        "# Dsiplay the plot\n",
        "plt.show()"
      ],
      "metadata": {
        "colab": {
          "base_uri": "https://localhost:8080/",
          "height": 295
        },
        "id": "qPUD8RC_naip",
        "outputId": "8270ee75-d789-4030-cf35-474b3408fd6d"
      },
      "execution_count": 39,
      "outputs": [
        {
          "output_type": "display_data",
          "data": {
            "text/plain": [
              "<Figure size 432x288 with 1 Axes>"
            ],
            "image/png": "[encoded data removed]"
          },
          "metadata": {
            "needs_background": "light"
          }
        }
      ]
    },
    {
      "cell_type": "markdown",
      "source": [
        "To have the bar chart display the values from highest to lowest, set the sort parameter to true as shown below:"
      ],
      "metadata": {
        "id": "EegbDszypXGo"
      }
    },
    {
      "cell_type": "code",
      "source": [
        "# Return the Series having unique values\n",
        "x = df['generation_id'].unique()\n",
        "\n",
        "# Return the Series having frequency count of each unique value\n",
        "y = df['generation_id'].value_counts(sort=True)\n",
        "\n",
        "# Use the matplotlib bar() to plot the bar chart\n",
        "plt.bar(x, y)\n",
        "\n",
        "# Labeling the axes\n",
        "plt.xlabel('Generation ID')\n",
        "plt.ylabel('Count')\n",
        "\n",
        "# Graph Title\n",
        "plt.title('Number of Generation Id per Categories')\n",
        "\n",
        "# Dsiplay the plot\n",
        "plt.show()"
      ],
      "metadata": {
        "colab": {
          "base_uri": "https://localhost:8080/",
          "height": 295
        },
        "id": "fOrPrxEMpHAy",
        "outputId": "e1b18574-77b4-41f5-80ae-a0342e4410ad"
      },
      "execution_count": 35,
      "outputs": [
        {
          "output_type": "display_data",
          "data": {
            "text/plain": [
              "<Figure size 432x288 with 1 Axes>"
            ],
            "image/png": "[encoded data removed]"
          },
          "metadata": {
            "needs_background": "light"
          }
        }
      ]
    },
    {
      "cell_type": "markdown",
      "source": [
        "**Note**\n",
        ">While we could sort the levels by frequency like above, we usually care about whether the most frequent values are at high levels, low levels, etc. For ordinal-type data, we probably want to sort the bars in order of the variables. The best thing for us to do in this case is to convert the column into an ordered categorical data type.\n",
        "\n",
        "**Additional Variation**\n",
        ">Refer to the CategoricalDtype to convert the column into an ordered categorical data type. By default, pandas reads in string data as object types, and will plot the bars in the order in which the unique values were seen. By converting the data into an ordered type, the order of categories becomes innate to the feature, and we won't need to specify an \"order\" parameter each time it's required in a plot."
      ],
      "metadata": {
        "id": "iicxCHjXqf9A"
      }
    }
  ]
}